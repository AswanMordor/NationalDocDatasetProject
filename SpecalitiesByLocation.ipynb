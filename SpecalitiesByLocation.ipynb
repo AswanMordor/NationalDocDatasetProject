{
 "cells": [
  {
   "cell_type": "code",
   "execution_count": 2,
   "metadata": {},
   "outputs": [],
   "source": [
    "import csv\n",
    "import math\n",
    "\n",
    "import pandas as pd\n",
    "import requests\n",
    "import numpy as np"
   ]
  },
  {
   "attachments": {},
   "cell_type": "markdown",
   "metadata": {},
   "source": [
    "### Dataset Location\n",
    "The Dataset cannot be pushed to Github. Github has decreased the allowed file size so the dataset will have to be downloaded manually.\n",
    "\n",
    "The url is: https://data.cms.gov/provider-data/sites/default/files/resources/69a75aa9d3dc1aed6b881725cf0ddc12_1671768321/DAC_NationalDownloadableFile.csv\n",
    "\n",
    "The Data Dictionary for this section of datasets: https://data.cms.gov/provider-data/sites/default/files/data_dictionaries/physician/DOC_Data_Dictionary.pdf\n",
    "\n",
    "The webpage for this section of datasets: https://data.cms.gov/provider-data/topics/doctors-clinicians"
   ]
  },
  {
   "cell_type": "code",
   "execution_count": 3,
   "metadata": {},
   "outputs": [],
   "source": [
    "df = pd.read_csv('DAC_NationalDownloadableFile.csv', encoding='windows-1252', dtype='string')"
   ]
  },
  {
   "attachments": {},
   "cell_type": "markdown",
   "metadata": {},
   "source": [
    "### Filtering and Cleaning the Dataset"
   ]
  },
  {
   "cell_type": "code",
   "execution_count": 4,
   "metadata": {},
   "outputs": [
    {
     "name": "stdout",
     "output_type": "stream",
     "text": [
      "             adr_ln_1             cty  st        zip                pri_spec  \\\n",
      "0     1582 N BROAD ST        TAZEWELL  TN  378794352      NURSE PRACTITIONER   \n",
      "1   5632 ANNAPOLIS RD     BLADENSBURG  MD  207102213      NURSE PRACTITIONER   \n",
      "2    611 E CARLSON ST        CHEYENNE  WY  820094335       INTERNAL MEDICINE   \n",
      "3         30 RIVER ST      JIM THORPE  PA  182292313            CHIROPRACTIC   \n",
      "4  20501 VENTURA BLVD  WOODLAND HILLS  CA  913640847  CLINICAL SOCIAL WORKER   \n",
      "\n",
      "   latitude  longitude  \n",
      "0       NaN        NaN  \n",
      "1       NaN        NaN  \n",
      "2       NaN        NaN  \n",
      "3       NaN        NaN  \n",
      "4       NaN        NaN  \n",
      "Number of entries: 2472219\n"
     ]
    }
   ],
   "source": [
    "# NOTE: Optimize This\n",
    "speciality_locations = df[['adr_ln_1', 'cty', 'st', 'zip','pri_spec']]\n",
    "speciality_locations = speciality_locations.replace(r'^s*$', np.nan, regex=True)\n",
    "speciality_locations.dropna(inplace=True)\n",
    "speciality_locations['latitude'] = speciality_locations['longitude'] = np.nan\n",
    "print(speciality_locations.head())\n",
    "print('Number of entries:',speciality_locations.shape[0])"
   ]
  },
  {
   "cell_type": "code",
   "execution_count": 5,
   "metadata": {},
   "outputs": [
    {
     "name": "stdout",
     "output_type": "stream",
     "text": [
      "<StringArray>\n",
      "[                                     'NURSE PRACTITIONER',\n",
      "                                       'INTERNAL MEDICINE',\n",
      "                                            'CHIROPRACTIC',\n",
      "                                  'CLINICAL SOCIAL WORKER',\n",
      "                                               'OPTOMETRY',\n",
      "                                          'ANESTHESIOLOGY',\n",
      "                                         'FAMILY PRACTICE',\n",
      "                                               'NEUROLOGY',\n",
      "                                   'CLINICAL PSYCHOLOGIST',\n",
      "                                             'DERMATOLOGY',\n",
      "                                        'PHYSICAL THERAPY',\n",
      "                                           'OPHTHALMOLOGY',\n",
      "                                      'ORTHOPEDIC SURGERY',\n",
      "                                             'HOSPITALIST',\n",
      "                                              'PSYCHIATRY',\n",
      "                                            'ORAL SURGERY',\n",
      "                                        'GENERAL PRACTICE',\n",
      "                      'PLASTIC AND RECONSTRUCTIVE SURGERY',\n",
      "                    'PHYSICAL MEDICINE AND REHABILITATION',\n",
      "                                        'GASTROENTEROLOGY',\n",
      "                                                 'UROLOGY',\n",
      "                                       'PULMONARY DISEASE',\n",
      "           'CERTIFIED REGISTERED NURSE ANESTHETIST (CRNA)',\n",
      "          'REGISTERED DIETITIAN OR NUTRITION PROFESSIONAL',\n",
      "                                                'PODIATRY',\n",
      "                                           'ENDOCRINOLOGY',\n",
      "                     'CARDIOVASCULAR DISEASE (CARDIOLOGY)',\n",
      "                                   'MAXILLOFACIAL SURGERY',\n",
      "                                   'QUALIFIED AUDIOLOGIST',\n",
      "                                   'OBSTETRICS/GYNECOLOGY',\n",
      "                                     'PHYSICIAN ASSISTANT',\n",
      "                                      'PEDIATRIC MEDICINE',\n",
      "                                            'NEUROSURGERY',\n",
      "                                            'RHEUMATOLOGY',\n",
      "                   'QUALIFIED SPEECH LANGUAGE PATHOLOGIST',\n",
      "                          'INTERVENTIONAL PAIN MANAGEMENT',\n",
      "                                    'OCCUPATIONAL THERAPY',\n",
      "                                      'EMERGENCY MEDICINE',\n",
      "                                         'PAIN MANAGEMENT',\n",
      "                               'INTERVENTIONAL CARDIOLOGY',\n",
      "                                              'NEPHROLOGY',\n",
      "                                      'INFECTIOUS DISEASE',\n",
      "                                         'GENERAL SURGERY',\n",
      "                                      'GERIATRIC MEDICINE',\n",
      "                                      'ALLERGY/IMMUNOLOGY',\n",
      "                                          'OTOLARYNGOLOGY',\n",
      "                                     'HEMATOLOGY/ONCOLOGY',\n",
      "                                            'HAND SURGERY',\n",
      "                                        'VASCULAR SURGERY',\n",
      "               'CERTIFIED CLINICAL NURSE SPECIALIST (CNS)',\n",
      "                                    'DIAGNOSTIC RADIOLOGY',\n",
      "                         'COLORECTAL SURGERY (PROCTOLOGY)',\n",
      "                                      'RADIATION ONCOLOGY',\n",
      "                                         'SPORTS MEDICINE',\n",
      "                       'OSTEOPATHIC MANIPULATIVE MEDICINE',\n",
      "                                    'GERIATRIC PSYCHIATRY',\n",
      "                                         'CARDIAC SURGERY',\n",
      "                                        'THORACIC SURGERY',\n",
      "                                               'PATHOLOGY',\n",
      "                                'INTERVENTIONAL RADIOLOGY',\n",
      "                               'CARDIAC ELECTROPHYSIOLOGY',\n",
      "                            'CRITICAL CARE (INTENSIVISTS)',\n",
      "                                         'NEUROPSYCHIATRY',\n",
      "                                  'GYNECOLOGICAL ONCOLOGY',\n",
      "                                        'MEDICAL ONCOLOGY',\n",
      "                                        'NUCLEAR MEDICINE',\n",
      "                                          'SLEEP MEDICINE',\n",
      "                                      'ADDICTION MEDICINE',\n",
      "                                                 'DENTIST',\n",
      "                                     'PREVENTIVE MEDICINE',\n",
      "                        'UNDERSEA AND HYPERBARIC MEDICINE',\n",
      "                                       'SURGICAL ONCOLOGY',\n",
      "                                'ANESTHESIOLOGY ASSISTANT',\n",
      "                           'CERTIFIED NURSE MIDWIFE (CNM)',\n",
      "                                 'HOSPICE/PALLIATIVE CARE',\n",
      "                 'MICROGRAPHIC DERMATOLOGIC SURGERY (MDS)',\n",
      "                             'PERIPHERAL VASCULAR DISEASE',\n",
      "                      'UNDEFINED PHYSICIAN TYPE (SPECIFY)',\n",
      "                                              'HEMATOLOGY',\n",
      "                  'UNDEFINED NON-PHYSICIAN TYPE (SPECIFY)',\n",
      "                           'MEDICAL GENETICS AND GENOMICS',\n",
      "                                      'MEDICAL TOXICOLOGY',\n",
      "        'ADVANCED HEART FAILURE AND TRANSPLANT CARDIOLOGY',\n",
      " 'HEMATOPOIETIC CELL TRANSPLANTATION AND CELLULAR THERAPY',\n",
      "                         'MASS IMMUNIZATION ROSTER BILLER',\n",
      "                   'ADULT CONGENITAL HEART DISEASE (ACHD)']\n",
      "Length: 86, dtype: string\n"
     ]
    }
   ],
   "source": [
    "#Printing Unique Primary Specialites to Filter From\n",
    "print(speciality_locations['pri_spec'].unique())"
   ]
  },
  {
   "cell_type": "code",
   "execution_count": 6,
   "metadata": {},
   "outputs": [],
   "source": [
    "#Selecting the specialites to use from the pri_spec column by removing the extranious specialites \n",
    "specialites_to_remove = [\n",
    "    'CLINICAL SOCIAL WORKER',\n",
    "    'UNDEFINED NON-PHYSICIAN TYPE (SPECIFY)',\n",
    "    'UNDEFINED PHYSICIAN TYPE (SPECIFY)',\n",
    "    'MEDICAL GENETICS AND GENOMICS',\n",
    "    'MEDICAL TOXICOLOGY',\n",
    "    'MASS IMMUNIZATION ROSTER BILLER'\n",
    "]\n",
    "indexes_to_remove = speciality_locations[ speciality_locations['pri_spec'].isin(specialites_to_remove) ].index\n",
    "speciality_locations.drop(indexes_to_remove, inplace=True)"
   ]
  },
  {
   "cell_type": "code",
   "execution_count": 7,
   "metadata": {},
   "outputs": [
    {
     "name": "stdout",
     "output_type": "stream",
     "text": [
      "242\n"
     ]
    }
   ],
   "source": [
    "batches = math.ceil(speciality_locations.shape[0] / 10000)\n",
    "print(batches)"
   ]
  },
  {
   "attachments": {},
   "cell_type": "markdown",
   "metadata": {},
   "source": [
    "### Steps to Get Geolocations of Addresses in Batch\n",
    "1. Create a loop that generates a CSV for each 247 entries \n",
    "2. Send the generated CSV to the Census GOV Geolocation API for processing\n",
    "3. Recieve the response and append it to a local CSV \n",
    "4. Rinse and repeat until all addresses are converted to geolocations (lat. and long.) to use with a map"
   ]
  },
  {
   "attachments": {},
   "cell_type": "markdown",
   "metadata": {},
   "source": [
    "### Testing using Test Address"
   ]
  },
  {
   "cell_type": "code",
   "execution_count": 8,
   "metadata": {},
   "outputs": [],
   "source": [
    "URL = 'https://geocoding.geo.census.gov/geocoder/locations/addressbatch'\n",
    "with open('test_addresses.csv', 'rb') as input_file:\n",
    "    geo = requests.post(files={'addressFile': input_file}, url=URL, data={'benchmark':'Public_AR_Current'})"
   ]
  },
  {
   "cell_type": "code",
   "execution_count": 9,
   "metadata": {},
   "outputs": [
    {
     "name": "stdout",
     "output_type": "stream",
     "text": [
      "b'\"000001\",\"20 W 34th St., New York,  NY,  10001\",\"Match\",\"Non_Exact\",\"20 W 34TH ST, NEW YORK, NY, 10118\",\"-73.98533698799997,40.748757279000074\",\"59653429\",\"L\"\\n'\n"
     ]
    }
   ],
   "source": [
    "response_content = str(geo.content)\n",
    "print(response_content)"
   ]
  },
  {
   "attachments": {},
   "cell_type": "markdown",
   "metadata": {},
   "source": [
    "### Extracting out the latitude and Longitude from the Test Address"
   ]
  },
  {
   "cell_type": "code",
   "execution_count": 10,
   "metadata": {},
   "outputs": [
    {
     "name": "stdout",
     "output_type": "stream",
     "text": [
      "lat:  -73.98533698799997 long:  40.748757279000074\n"
     ]
    }
   ],
   "source": [
    "lat, long = response_content.split('\",\"')[5].split(',')  # Pretty hardcoded, but it works\n",
    "print(\"lat: \", lat, \"long: \", long)"
   ]
  },
  {
   "attachments": {},
   "cell_type": "markdown",
   "metadata": {},
   "source": [
    "### Example Test Address Plotting Using Geopandas"
   ]
  },
  {
   "cell_type": "code",
   "execution_count": 11,
   "metadata": {},
   "outputs": [],
   "source": [
    "import matplotlib.pyplot as plt\n",
    "import geopandas as gpd\n",
    "from shapely.geometry import Point, Polygon"
   ]
  },
  {
   "cell_type": "code",
   "execution_count": 12,
   "metadata": {},
   "outputs": [
    {
     "data": {
      "text/plain": [
       "<AxesSubplot: >"
      ]
     },
     "execution_count": 12,
     "metadata": {},
     "output_type": "execute_result"
    },
    {
     "data": {
      "image/png": "[encoded data removed]",
      "text/plain": [
       "<Figure size 1000x1000 with 1 Axes>"
      ]
     },
     "metadata": {},
     "output_type": "display_data"
    }
   ],
   "source": [
    "us_nation_map = gpd.read_file('./cb_2021_us_nation_20m/cb_2021_us_nation_20m.shp')\n",
    "\n",
    "fig, ax = plt.subplots(figsize=(10, 10))\n",
    "us_nation_map.to_crs(epsg=4326).plot(ax=ax, color='lightgrey')\n",
    "\n",
    "ax.set_xlim(-200, -50)\n",
    "ax.set_ylim(20, 80)\n",
    "\n",
    "crs = 'EPSG:4326'\n",
    "geometry = [Point(float(lat), float(long))]\n",
    "geo_df = gpd.GeoDataFrame(pd.DataFrame(), crs=crs, geometry=geometry)\n",
    "geo_df.plot(ax=ax)"
   ]
  },
  {
   "attachments": {},
   "cell_type": "markdown",
   "metadata": {},
   "source": [
    "### Run The Loop to get the Full Data"
   ]
  },
  {
   "cell_type": "code",
   "execution_count": 14,
   "metadata": {},
   "outputs": [],
   "source": [
    "test_batch_size = 10\n",
    "# 'adr_ln_1', 'cty', 'st', 'zip'\n",
    "csv_headers = ['adr_ln_1', 'cty', 'st', 'zip']\n",
    "speciality_locations[:batches].to_csv('batched_addresses.csv', columns=csv_headers, header=None)\n",
    "\n",
    "URL = 'https://geocoding.geo.census.gov/geocoder/locations/addressbatch'\n",
    "with open('batched_addresses.csv', 'rb') as input_file:\n",
    "    geo = requests.post(files={'addressFile': input_file}, url=URL, data={'benchmark':'Public_AR_Current'})\n",
    "\n",
    "\n"
   ]
  },
  {
   "cell_type": "code",
   "execution_count": null,
   "metadata": {},
   "outputs": [],
   "source": []
  }
 ],
 "metadata": {
  "kernelspec": {
   "display_name": "Python 3",
   "language": "python",
   "name": "python3"
  },
  "language_info": {
   "codemirror_mode": {
    "name": "ipython",
    "version": 3
   },
   "file_extension": ".py",
   "mimetype": "text/x-python",
   "name": "python",
   "nbconvert_exporter": "python",
   "pygments_lexer": "ipython3",
   "version": "3.10.9"
  },
  "orig_nbformat": 4,
  "vscode": {
   "interpreter": {
    "hash": "999462012b5f0cc7a3a94ea2a9c2da9d0788e83b77ce0ef584c739bd8db88726"
   }
  }
 },
 "nbformat": 4,
 "nbformat_minor": 2
}

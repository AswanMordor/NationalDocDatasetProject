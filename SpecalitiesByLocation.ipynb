{
 "cells": [
  {
   "cell_type": "code",
   "execution_count": 9,
   "metadata": {},
   "outputs": [],
   "source": [
    "import csv\n",
    "import math\n",
    "\n",
    "import pandas as pd\n",
    "import requests\n",
    "import numpy as np"
   ]
  },
  {
   "attachments": {},
   "cell_type": "markdown",
   "metadata": {},
   "source": [
    "### Dataset Location\n",
    "The Dataset cannot be pushed to Github. Github has decreased the allowed file size so the dataset will have to be downloaded manually.\n",
    "\n",
    "The url is: https://data.cms.gov/provider-data/sites/default/files/resources/69a75aa9d3dc1aed6b881725cf0ddc12_1671768321/DAC_NationalDownloadableFile.csv\n",
    "\n",
    "The Data Dictionary for this section of datasets: https://data.cms.gov/provider-data/sites/default/files/data_dictionaries/physician/DOC_Data_Dictionary.pdf\n",
    "\n",
    "The webpage for this section of datasets: https://data.cms.gov/provider-data/topics/doctors-clinicians"
   ]
  },
  {
   "cell_type": "code",
   "execution_count": 7,
   "metadata": {},
   "outputs": [],
   "source": [
    "df = pd.read_csv('DAC_NationalDownloadableFile.csv', encoding='windows-1252', dtype='string')"
   ]
  },
  {
   "attachments": {},
   "cell_type": "markdown",
   "metadata": {},
   "source": [
    "### (TODO) Filtering and Cleaning the Dataset\n",
    "Note: Since this is for Physicians, we will need to filter out non-physicians, but keep in mind that some physicians will also have a secondary degree listed under their specialities, so the filtering needs to be a bit smarter"
   ]
  },
  {
   "cell_type": "code",
   "execution_count": 21,
   "metadata": {},
   "outputs": [
    {
     "name": "stdout",
     "output_type": "stream",
     "text": [
      "             adr_ln_1             cty  st        zip                pri_spec\n",
      "0     1582 N BROAD ST        TAZEWELL  TN  378794352      NURSE PRACTITIONER\n",
      "1   5632 ANNAPOLIS RD     BLADENSBURG  MD  207102213      NURSE PRACTITIONER\n",
      "2    611 E CARLSON ST        CHEYENNE  WY  820094335       INTERNAL MEDICINE\n",
      "3         30 RIVER ST      JIM THORPE  PA  182292313            CHIROPRACTIC\n",
      "4  20501 VENTURA BLVD  WOODLAND HILLS  CA  913640847  CLINICAL SOCIAL WORKER\n",
      "2472219\n"
     ]
    }
   ],
   "source": [
    "# NOTE: Optimize This\n",
    "addresses = df[['adr_ln_1', 'cty', 'st', 'zip','pri_spec']]\n",
    "addresses.drop_duplicates()\n",
    "addresses.dropna()\n",
    "addresses = addresses[addresses['adr_ln_1'].str.strip().astype(bool)]\n",
    "addresses = addresses[addresses['cty'].str.strip().astype(bool)]\n",
    "addresses = addresses[addresses['st'].str.strip().astype(bool)]\n",
    "addresses = addresses[addresses['zip'].str.strip().astype(bool)]\n",
    "addresses = addresses[addresses['pri_spec'].str.strip().astype(bool)]\n",
    "print(addresses.head())\n",
    "print(addresses.shape[0])"
   ]
  },
  {
   "cell_type": "code",
   "execution_count": 4,
   "metadata": {},
   "outputs": [
    {
     "name": "stdout",
     "output_type": "stream",
     "text": [
      "247\n"
     ]
    }
   ],
   "source": [
    "batches = math.ceil(addresses.shape[0] / 10000)\n",
    "print(batches)"
   ]
  },
  {
   "attachments": {},
   "cell_type": "markdown",
   "metadata": {},
   "source": [
    "### Steps to Get Geolocations of Addresses in Batch\n",
    "1. Create a loop that generates a CSV for each 247 entries \n",
    "2. Send the generated CSV to the Census GOV Geolocation API for processing\n",
    "3. Recieve the response and append it to a local CSV \n",
    "4. Rinse and repeat until all addresses are converted to geolocations (lat. and long.) to use with a map"
   ]
  },
  {
   "cell_type": "code",
   "execution_count": 5,
   "metadata": {},
   "outputs": [],
   "source": [
    "URL = 'https://geocoding.geo.census.gov/geocoder/locations/addressbatch'\n",
    "with open('test_addresses.csv', 'rb') as input_file:\n",
    "    geo = requests.post(files={'addressFile': input_file}, url=URL, data={'benchmark':'Public_AR_Current'})"
   ]
  },
  {
   "cell_type": "code",
   "execution_count": 6,
   "metadata": {},
   "outputs": [
    {
     "name": "stdout",
     "output_type": "stream",
     "text": [
      "b'\"000001\",\"8 E View Dr, Whitehouse Station, NJ, 08889\",\"Match\",\"Exact\",\"8 E VIEW DR, WHITEHOUSE STATION, NJ, 08889\",\"-74.76707085499999,40.611750001000075\",\"627779463\",\"R\"\\n'\n"
     ]
    }
   ],
   "source": [
    "print(geo.content)"
   ]
  },
  {
   "cell_type": "code",
   "execution_count": null,
   "metadata": {},
   "outputs": [],
   "source": []
  }
 ],
 "metadata": {
  "kernelspec": {
   "display_name": "base",
   "language": "python",
   "name": "python3"
  },
  "language_info": {
   "codemirror_mode": {
    "name": "ipython",
    "version": 3
   },
   "file_extension": ".py",
   "mimetype": "text/x-python",
   "name": "python",
   "nbconvert_exporter": "python",
   "pygments_lexer": "ipython3",
   "version": "3.9.13"
  },
  "orig_nbformat": 4,
  "vscode": {
   "interpreter": {
    "hash": "d01eb58667397c9178a247e44ffc4e4fa7fe5d6257b8a27e09973b0661f11746"
   }
  }
 },
 "nbformat": 4,
 "nbformat_minor": 2
}
